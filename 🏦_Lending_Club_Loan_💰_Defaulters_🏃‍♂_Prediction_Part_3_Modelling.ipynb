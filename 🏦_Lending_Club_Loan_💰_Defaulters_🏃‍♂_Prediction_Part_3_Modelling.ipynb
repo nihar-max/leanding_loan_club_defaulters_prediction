{
  "nbformat": 4,
  "nbformat_minor": 0,
  "metadata": {
    "colab": {
      "provenance": [],
      "authorship_tag": "ABX9TyOelxAKr82TdFRCylUsHZQM",
      "include_colab_link": true
    },
    "kernelspec": {
      "name": "python3",
      "display_name": "Python 3"
    },
    "language_info": {
      "name": "python"
    }
  },
  "cells": [
    {
      "cell_type": "markdown",
      "metadata": {
        "id": "view-in-github",
        "colab_type": "text"
      },
      "source": [
        "<a href=\"https://colab.research.google.com/github/nihar-max/leanding_loan_club_defaulters_prediction/blob/master/%F0%9F%8F%A6_Lending_Club_Loan_%F0%9F%92%B0_Defaulters_%F0%9F%8F%83%E2%80%8D%E2%99%82_Prediction_Part_3_Modelling.ipynb\" target=\"_parent\"><img src=\"https://colab.research.google.com/assets/colab-badge.svg\" alt=\"Open In Colab\"/></a>"
      ]
    },
    {
      "cell_type": "code",
      "execution_count": 1,
      "metadata": {
        "id": "GAAZEbERNqjQ"
      },
      "outputs": [],
      "source": [
        "import pandas as pd\n",
        "import numpy as np\n",
        "import matplotlib.pyplot as plt\n",
        "%matplotlib inline\n",
        "import matplotlib.pyplot as plt\n",
        "plt.style.use('ggplot')\n",
        "import seaborn as sns\n",
        "import  seaborn as sns"
      ]
    },
    {
      "cell_type": "code",
      "source": [
        "from google.colab import drive\n",
        "drive.mount('/content/drive')"
      ],
      "metadata": {
        "colab": {
          "base_uri": "https://localhost:8080/"
        },
        "id": "8_gnXxWENs1A",
        "outputId": "1a655f2e-3e3f-4ef0-aca4-5b331c208d9a"
      },
      "execution_count": 2,
      "outputs": [
        {
          "output_type": "stream",
          "name": "stdout",
          "text": [
            "Mounted at /content/drive\n"
          ]
        }
      ]
    },
    {
      "cell_type": "code",
      "source": [
        "X_train = pd.read_csv('/content/drive/MyDrive/lending club loans/X_train_oversampled.csv',\n",
        "                  engine=\"python\",\n",
        "                  error_bad_lines=False,\n",
        "                  encoding='utf-8')\n",
        "\n",
        "\n",
        "X_test = pd.read_csv('/content/drive/MyDrive/lending club loans/X_test.csv',\n",
        "                  engine=\"python\",\n",
        "                  error_bad_lines=False,\n",
        "                  encoding='utf-8')\n",
        "\n",
        "\n",
        "y_train = pd.read_csv('/content/drive/MyDrive/lending club loans/y_train_oversampled.csv',\n",
        "                  engine=\"python\",\n",
        "                  error_bad_lines=False,\n",
        "                  encoding='utf-8')\n",
        "\n",
        "\n",
        "y_test = pd.read_csv('/content/drive/MyDrive/lending club loans/y_test.csv',\n",
        "                  engine=\"python\",\n",
        "                  error_bad_lines=False,\n",
        "                  encoding='utf-8')\n"
      ],
      "metadata": {
        "colab": {
          "base_uri": "https://localhost:8080/"
        },
        "id": "v0R3emL5NuWl",
        "outputId": "97b30d2e-2016-4172-a5be-3b638748bf2c"
      },
      "execution_count": 3,
      "outputs": [
        {
          "output_type": "stream",
          "name": "stderr",
          "text": [
            "<ipython-input-3-16aa86686bd8>:1: FutureWarning: The error_bad_lines argument has been deprecated and will be removed in a future version. Use on_bad_lines in the future.\n",
            "\n",
            "\n",
            "  X_train = pd.read_csv('/content/drive/MyDrive/lending club loans/X_train_oversampled.csv',\n",
            "<ipython-input-3-16aa86686bd8>:7: FutureWarning: The error_bad_lines argument has been deprecated and will be removed in a future version. Use on_bad_lines in the future.\n",
            "\n",
            "\n",
            "  X_test = pd.read_csv('/content/drive/MyDrive/lending club loans/X_test.csv',\n",
            "<ipython-input-3-16aa86686bd8>:13: FutureWarning: The error_bad_lines argument has been deprecated and will be removed in a future version. Use on_bad_lines in the future.\n",
            "\n",
            "\n",
            "  y_train = pd.read_csv('/content/drive/MyDrive/lending club loans/y_train_oversampled.csv',\n",
            "<ipython-input-3-16aa86686bd8>:19: FutureWarning: The error_bad_lines argument has been deprecated and will be removed in a future version. Use on_bad_lines in the future.\n",
            "\n",
            "\n",
            "  y_test = pd.read_csv('/content/drive/MyDrive/lending club loans/y_test.csv',\n"
          ]
        }
      ]
    },
    {
      "cell_type": "code",
      "source": [
        "X_train.drop('Unnamed: 0', axis=1, inplace=True)\n",
        "y_train.drop('Unnamed: 0', axis=1, inplace=True)\n",
        "X_test.drop('Unnamed: 0', axis=1, inplace=True)\n",
        "y_test.drop('Unnamed: 0', axis=1, inplace=True)"
      ],
      "metadata": {
        "id": "vEClIFCaOnKk"
      },
      "execution_count": 4,
      "outputs": []
    },
    {
      "cell_type": "code",
      "source": [
        "print(' Total datapoints in X_train :',X_train.shape)\n",
        "print(' Total datapoints in X_test :',X_test.shape)\n",
        "print(' Total datapoints in y_train :',y_train.shape)\n",
        "print(' Total datapoints in y_test :',y_test.shape)"
      ],
      "metadata": {
        "colab": {
          "base_uri": "https://localhost:8080/"
        },
        "id": "4ax4mAEvOp2s",
        "outputId": "aeaf8bed-f489-4307-d06c-5af6c34d75c9"
      },
      "execution_count": 5,
      "outputs": [
        {
          "output_type": "stream",
          "name": "stdout",
          "text": [
            " Total datapoints in X_train : (42819, 66)\n",
            " Total datapoints in X_test : (10507, 66)\n",
            " Total datapoints in y_train : (42819, 1)\n",
            " Total datapoints in y_test : (10507, 1)\n"
          ]
        }
      ]
    },
    {
      "cell_type": "markdown",
      "source": [
        "# 9. Load Machine Learning Model"
      ],
      "metadata": {
        "id": "PwpU_AuFl18G"
      }
    },
    {
      "cell_type": "code",
      "source": [
        "from sklearn.naive_bayes import CategoricalNB\n",
        "from sklearn.naive_bayes import GaussianNB\n",
        "from sklearn.linear_model import LogisticRegression\n",
        "from sklearn.svm import SVC\n",
        "from sklearn.tree import DecisionTreeClassifier"
      ],
      "metadata": {
        "id": "nD3m7gxIl1tv"
      },
      "execution_count": 37,
      "outputs": []
    },
    {
      "cell_type": "markdown",
      "source": [
        "## 1. Gaussian Naive Bayes"
      ],
      "metadata": {
        "id": "vZCaK94OmcbM"
      }
    },
    {
      "cell_type": "code",
      "source": [
        "NBclassifier1 = GaussianNB()\n",
        "NBclassifier1.fit(X_train, y_train)\n",
        "\n",
        "y_pred_nb = NBclassifier1.predict(X_test)"
      ],
      "metadata": {
        "colab": {
          "base_uri": "https://localhost:8080/"
        },
        "id": "jYFJvqFImHJf",
        "outputId": "79ec688e-1563-4899-aa4e-8d09b5680096"
      },
      "execution_count": 80,
      "outputs": [
        {
          "output_type": "stream",
          "name": "stderr",
          "text": [
            "/usr/local/lib/python3.10/dist-packages/sklearn/utils/validation.py:1143: DataConversionWarning: A column-vector y was passed when a 1d array was expected. Please change the shape of y to (n_samples, ), for example using ravel().\n",
            "  y = column_or_1d(y, warn=True)\n"
          ]
        }
      ]
    },
    {
      "cell_type": "markdown",
      "source": [
        "### Accuracy & Error"
      ],
      "metadata": {
        "id": "Z8r3iu1Tp9LE"
      }
    },
    {
      "cell_type": "code",
      "source": [
        "a1 = round(accuracy_score(y_test, y_pred_nb)*100,4)\n",
        "a2 = round(100-accuracy_score(y_test, y_pred_nb)*100,4)\n",
        "print('Accuracy:',a1)\n",
        "print('Error:',a2)"
      ],
      "metadata": {
        "colab": {
          "base_uri": "https://localhost:8080/"
        },
        "id": "JB3u51hEp4Sc",
        "outputId": "83eb32f3-8380-45eb-90fe-cdcfafe689bc"
      },
      "execution_count": 81,
      "outputs": [
        {
          "output_type": "stream",
          "name": "stdout",
          "text": [
            "Accuracy: 91.7103\n",
            "Error: 8.2897\n"
          ]
        }
      ]
    },
    {
      "cell_type": "markdown",
      "source": [
        "### Confusion Matrix"
      ],
      "metadata": {
        "id": "1NZpnSuspZlf"
      }
    },
    {
      "cell_type": "code",
      "source": [
        "def confusion_mat(color):\n",
        "    cof=confusion_matrix(y_test, y_pred_nb)\n",
        "    cof=pd.DataFrame(cof, index=[i for i in range(1,3)], columns=[i for i in range(1,3)])\n",
        "    sns.set(font_scale=1.5)\n",
        "    plt.figure(figsize=(5,6));\n",
        "\n",
        "    sns.heatmap(cof, cmap=color,linewidths=1, annot=True,square=True, fmt='d', cbar=False,xticklabels=[0,1],yticklabels=[0,1]);\n",
        "    plt.xlabel(\"Predicted Classes\");\n",
        "    plt.ylabel(\"Actual Classes\");\n",
        "\n",
        "confusion_mat('YlGnBu')"
      ],
      "metadata": {
        "colab": {
          "base_uri": "https://localhost:8080/",
          "height": 490
        },
        "id": "tnexBzCQoilU",
        "outputId": "625d830a-ab81-40a6-bff6-b49f1390f37b"
      },
      "execution_count": 82,
      "outputs": [
        {
          "output_type": "display_data",
          "data": {
            "text/plain": [
              "<Figure size 500x600 with 1 Axes>"
            ],
            "image/png": "[encoded data removed]"
          },
          "metadata": {}
        }
      ]
    },
    {
      "cell_type": "markdown",
      "source": [
        "### Precision , Recall ,F1-Score"
      ],
      "metadata": {
        "id": "uviXMKpepY6W"
      }
    },
    {
      "cell_type": "code",
      "source": [
        "print('\\nClassification Report\\n')\n",
        "print(classification_report(y_test, y_pred_nb))"
      ],
      "metadata": {
        "colab": {
          "base_uri": "https://localhost:8080/"
        },
        "id": "WacCRvFmpfHY",
        "outputId": "3eda84cc-b0c5-4f9c-f70d-773cd9a36f4c"
      },
      "execution_count": 83,
      "outputs": [
        {
          "output_type": "stream",
          "name": "stdout",
          "text": [
            "\n",
            "Classification Report\n",
            "\n",
            "              precision    recall  f1-score   support\n",
            "\n",
            "           0       0.91      1.00      0.95      8398\n",
            "           1       0.97      0.60      0.74      2109\n",
            "\n",
            "    accuracy                           0.92     10507\n",
            "   macro avg       0.94      0.80      0.85     10507\n",
            "weighted avg       0.92      0.92      0.91     10507\n",
            "\n"
          ]
        }
      ]
    },
    {
      "cell_type": "markdown",
      "source": [
        "- Precision : All points which are predicted to be positive out of that how many are actual positive\n",
        "\n",
        "- Recall: All the Actual positive points out of that how many are Predicted positive"
      ],
      "metadata": {
        "id": "k5HXueLdpmcW"
      }
    },
    {
      "cell_type": "markdown",
      "source": [
        "\n",
        "##  2. Logistic Regression"
      ],
      "metadata": {
        "id": "tC7rmM38Qh-c"
      }
    },
    {
      "cell_type": "code",
      "source": [
        "from sklearn.metrics import confusion_matrix\n",
        "from sklearn.metrics import classification_report\n",
        "from sklearn.metrics import accuracy_score"
      ],
      "metadata": {
        "id": "1g6wtBUvOqg9"
      },
      "execution_count": 6,
      "outputs": []
    },
    {
      "cell_type": "code",
      "source": [
        "LRclassifier = LogisticRegression(penalty='l2',solver= 'liblinear', max_iter=500, random_state=1)\n",
        "# L2 = L2 regularization helps to overcome (overfitting vs underfitting)\n",
        "#libliner for binary classification\n",
        "LRclassifier.fit(X_train, y_train)\n",
        "\n",
        "y_pred_lr = LRclassifier.predict(X_test)"
      ],
      "metadata": {
        "colab": {
          "base_uri": "https://localhost:8080/"
        },
        "id": "1iXQV4OzRxbN",
        "outputId": "5d0a9b12-c266-4148-cd57-7dc4b59a7423"
      },
      "execution_count": 57,
      "outputs": [
        {
          "output_type": "stream",
          "name": "stderr",
          "text": [
            "/usr/local/lib/python3.10/dist-packages/sklearn/utils/validation.py:1143: DataConversionWarning: A column-vector y was passed when a 1d array was expected. Please change the shape of y to (n_samples, ), for example using ravel().\n",
            "  y = column_or_1d(y, warn=True)\n"
          ]
        }
      ]
    },
    {
      "cell_type": "markdown",
      "source": [
        "### Accuracy & Error"
      ],
      "metadata": {
        "id": "RbSS1hjQqh3G"
      }
    },
    {
      "cell_type": "code",
      "source": [
        "b1 = round(accuracy_score(y_test, y_pred_lr)*100,4)\n",
        "b2 = round(100-accuracy_score(y_test, y_pred_lr)*100,4)\n",
        "print('Accuracy:',b1)\n",
        "print('Error:',b2)"
      ],
      "metadata": {
        "colab": {
          "base_uri": "https://localhost:8080/"
        },
        "id": "hnicrtIiqhlQ",
        "outputId": "5f38a7be-b08d-4418-94a9-eff19bbbd083"
      },
      "execution_count": 88,
      "outputs": [
        {
          "output_type": "stream",
          "name": "stdout",
          "text": [
            "Accuracy: 93.6519\n",
            "Error: 6.3481\n"
          ]
        }
      ]
    },
    {
      "cell_type": "markdown",
      "source": [
        "### Confusion Matrix"
      ],
      "metadata": {
        "id": "1Vw2ZJ1gqLt9"
      }
    },
    {
      "cell_type": "code",
      "source": [
        "def confusion_mat(color):\n",
        "    cof=confusion_matrix(y_test, y_pred_lr)\n",
        "    cof=pd.DataFrame(cof, index=[i for i in range(1,3)], columns=[i for i in range(1,3)])\n",
        "    sns.set(font_scale=1.5)\n",
        "    plt.figure(figsize=(6,6));\n",
        "\n",
        "    sns.heatmap(cof, cmap=color,linewidths=1, annot=True,square=True, fmt='d', cbar=False,xticklabels=[0,1],yticklabels=[0,1]);\n",
        "    plt.xlabel(\"Predicted Classes\");\n",
        "    plt.ylabel(\"Actual Classes\");\n",
        "\n",
        "confusion_mat('Greys')"
      ],
      "metadata": {
        "colab": {
          "base_uri": "https://localhost:8080/",
          "height": 564
        },
        "id": "gJvAsoFmn7wF",
        "outputId": "505d4183-1a02-4873-a219-8ed0165e088b"
      },
      "execution_count": 58,
      "outputs": [
        {
          "output_type": "display_data",
          "data": {
            "text/plain": [
              "<Figure size 600x600 with 1 Axes>"
            ],
            "image/png": "[encoded data removed]"
          },
          "metadata": {}
        }
      ]
    },
    {
      "cell_type": "markdown",
      "source": [
        "### Precision ,Recall,F1-Score"
      ],
      "metadata": {
        "id": "-Kl9MEGWqy_N"
      }
    },
    {
      "cell_type": "code",
      "source": [
        "print('\\nClassification Report\\n')\n",
        "print((classification_report(y_test, y_pred_lr)))"
      ],
      "metadata": {
        "colab": {
          "base_uri": "https://localhost:8080/"
        },
        "id": "8pACYPw0q18u",
        "outputId": "6d133ece-9ec0-416b-8b91-37bca6ece37f"
      },
      "execution_count": 60,
      "outputs": [
        {
          "output_type": "stream",
          "name": "stdout",
          "text": [
            "\n",
            "Classification Report\n",
            "\n",
            "              precision    recall  f1-score   support\n",
            "\n",
            "           0       0.96      0.96      0.96      8398\n",
            "           1       0.85      0.84      0.84      2109\n",
            "\n",
            "    accuracy                           0.94     10507\n",
            "   macro avg       0.90      0.90      0.90     10507\n",
            "weighted avg       0.94      0.94      0.94     10507\n",
            "\n"
          ]
        }
      ]
    },
    {
      "cell_type": "markdown",
      "source": [
        "## 3. Decision Tree"
      ],
      "metadata": {
        "id": "_7O7kNSJs1Ge"
      }
    },
    {
      "cell_type": "code",
      "source": [
        "dt_model = DecisionTreeClassifier(criterion='gini')\n",
        "dt_model.fit(X_train,y_train)\n",
        "pred_dtg = dt_model.predict(X_test)"
      ],
      "metadata": {
        "id": "-P1on5dhs571"
      },
      "execution_count": 85,
      "outputs": []
    },
    {
      "cell_type": "markdown",
      "source": [
        "### Accuracy & Error"
      ],
      "metadata": {
        "id": "U0WPW0tptVN4"
      }
    },
    {
      "cell_type": "code",
      "source": [
        "c1 = round(accuracy_score(y_test, pred_dtg)*100,4)\n",
        "c2 = round(100-accuracy_score(y_test, pred_dtg)*100,4)\n",
        "print('Accuracy:',c1)\n",
        "print('Error:',c2)"
      ],
      "metadata": {
        "colab": {
          "base_uri": "https://localhost:8080/"
        },
        "id": "ky_uL51ftbnf",
        "outputId": "64aab03c-67af-41d4-bb5f-bc5d40d6054e"
      },
      "execution_count": 87,
      "outputs": [
        {
          "output_type": "stream",
          "name": "stdout",
          "text": [
            "Accuracy: 97.8395\n",
            "Error: 2.1605\n"
          ]
        }
      ]
    },
    {
      "cell_type": "markdown",
      "source": [
        "### Confusion Matrix"
      ],
      "metadata": {
        "id": "wmQONsQktR9M"
      }
    },
    {
      "cell_type": "code",
      "source": [
        "def confusion_mat(color):\n",
        "    cof=confusion_matrix(y_test, pred_dtg)\n",
        "    cof=pd.DataFrame(cof, index=[i for i in range(1,3)], columns=[i for i in range(1,3)])\n",
        "    sns.set(font_scale=1.5)\n",
        "    plt.figure(figsize=(6,6));\n",
        "\n",
        "    sns.heatmap(cof, cmap=color,linewidths=1, annot=True,square=True, fmt='d', cbar=False,xticklabels=[0,1],yticklabels=[0,1]);\n",
        "    plt.xlabel(\"Predicted Classes\");\n",
        "    plt.ylabel(\"Actual Classes\");\n",
        "\n",
        "confusion_mat('Purples')"
      ],
      "metadata": {
        "colab": {
          "base_uri": "https://localhost:8080/",
          "height": 564
        },
        "id": "lnMyS3GBs54t",
        "outputId": "1b8eb0d7-8387-4001-9c63-8572aacce016"
      },
      "execution_count": 73,
      "outputs": [
        {
          "output_type": "display_data",
          "data": {
            "text/plain": [
              "<Figure size 600x600 with 1 Axes>"
            ],
            "image/png": "[encoded data removed]"
          },
          "metadata": {}
        }
      ]
    },
    {
      "cell_type": "markdown",
      "source": [
        "### Precision ,Recall,F1-Score"
      ],
      "metadata": {
        "id": "knVzQyb9ti0_"
      }
    },
    {
      "cell_type": "code",
      "source": [
        "print('\\nClassification Report\\n')\n",
        "print((classification_report(y_test, pred_dtg)))"
      ],
      "metadata": {
        "colab": {
          "base_uri": "https://localhost:8080/"
        },
        "id": "febGMLpQs518",
        "outputId": "1a59a4e1-fa68-4abe-8d33-ea4f5a6a78ad"
      },
      "execution_count": 71,
      "outputs": [
        {
          "output_type": "stream",
          "name": "stdout",
          "text": [
            "\n",
            "Classification Report\n",
            "\n",
            "              precision    recall  f1-score   support\n",
            "\n",
            "           0       0.99      0.99      0.99      8398\n",
            "           1       0.95      0.94      0.94      2109\n",
            "\n",
            "    accuracy                           0.98     10507\n",
            "   macro avg       0.97      0.96      0.97     10507\n",
            "weighted avg       0.98      0.98      0.98     10507\n",
            "\n"
          ]
        }
      ]
    },
    {
      "cell_type": "markdown",
      "source": [
        "## 4. Random Forest Classifier using Hyper Parameter Tuning"
      ],
      "metadata": {
        "id": "gvq_vvTcVN_5"
      }
    },
    {
      "cell_type": "code",
      "source": [
        "from sklearn.ensemble import RandomForestClassifier\n",
        "import numpy as np\n",
        "from sklearn.model_selection import RandomizedSearchCV\n",
        "# Number of trees in random forest\n",
        "n_estimators = [int(x) for x in np.linspace(start = 200, stop = 2000, num = 10)]\n",
        "# Number of features to consider at every split\n",
        "max_features = ['auto', 'sqrt','log2']\n",
        "# Maximum number of levels in tree\n",
        "max_depth = [int(x) for x in np.linspace(10, 1000,10)]\n",
        "# Minimum number of samples required to split a node\n",
        "min_samples_split = [1,3,4, 5, 7,9]\n",
        "# Minimum number of samples required at each leaf node\n",
        "min_samples_leaf = [1, 2, 4,6,8]\n",
        "# Create the random grid\n",
        "random_grid = {'n_estimators': n_estimators,\n",
        "               'max_features': max_features,\n",
        "               'max_depth': max_depth,\n",
        "               'min_samples_split': min_samples_split,\n",
        "               'min_samples_leaf': min_samples_leaf,\n",
        "              'criterion':['entropy','gini']}\n",
        "print(random_grid)"
      ],
      "metadata": {
        "id": "0_KKRnN6Re01",
        "colab": {
          "base_uri": "https://localhost:8080/"
        },
        "outputId": "0c382f80-26a2-470d-882f-fe7c4cc75d14"
      },
      "execution_count": 8,
      "outputs": [
        {
          "output_type": "stream",
          "name": "stdout",
          "text": [
            "{'n_estimators': [200, 400, 600, 800, 1000, 1200, 1400, 1600, 1800, 2000], 'max_features': ['auto', 'sqrt', 'log2'], 'max_depth': [10, 120, 230, 340, 450, 560, 670, 780, 890, 1000], 'min_samples_split': [1, 3, 4, 5, 7, 9], 'min_samples_leaf': [1, 2, 4, 6, 8], 'criterion': ['entropy', 'gini']}\n"
          ]
        }
      ]
    },
    {
      "cell_type": "code",
      "source": [
        "rf=RandomForestClassifier()\n",
        "rf_randomcv=RandomizedSearchCV(estimator=rf,param_distributions=random_grid,cv=3,verbose=2,\n",
        "                               random_state=100,n_jobs=-1)\n",
        "### fit the randomized model\n",
        "rf_randomcv.fit(X_train,y_train)"
      ],
      "metadata": {
        "colab": {
          "base_uri": "https://localhost:8080/",
          "height": 623
        },
        "id": "jvo7J8jWXuV_",
        "outputId": "4c74dd78-9759-4e48-e066-31bb67ee298e"
      },
      "execution_count": 10,
      "outputs": [
        {
          "output_type": "stream",
          "name": "stdout",
          "text": [
            "Fitting 3 folds for each of 10 candidates, totalling 30 fits\n"
          ]
        },
        {
          "output_type": "stream",
          "name": "stderr",
          "text": [
            "/usr/local/lib/python3.10/dist-packages/joblib/externals/loky/process_executor.py:752: UserWarning: A worker stopped while some jobs were given to the executor. This can be caused by a too short worker timeout or by a memory leak.\n",
            "  warnings.warn(\n",
            "/usr/local/lib/python3.10/dist-packages/sklearn/model_selection/_validation.py:378: FitFailedWarning: \n",
            "6 fits failed out of a total of 30.\n",
            "The score on these train-test partitions for these parameters will be set to nan.\n",
            "If these failures are not expected, you can try to debug them by setting error_score='raise'.\n",
            "\n",
            "Below are more details about the failures:\n",
            "--------------------------------------------------------------------------------\n",
            "6 fits failed with the following error:\n",
            "Traceback (most recent call last):\n",
            "  File \"/usr/local/lib/python3.10/dist-packages/sklearn/model_selection/_validation.py\", line 686, in _fit_and_score\n",
            "    estimator.fit(X_train, y_train, **fit_params)\n",
            "  File \"/usr/local/lib/python3.10/dist-packages/sklearn/ensemble/_forest.py\", line 340, in fit\n",
            "    self._validate_params()\n",
            "  File \"/usr/local/lib/python3.10/dist-packages/sklearn/base.py\", line 600, in _validate_params\n",
            "    validate_parameter_constraints(\n",
            "  File \"/usr/local/lib/python3.10/dist-packages/sklearn/utils/_param_validation.py\", line 97, in validate_parameter_constraints\n",
            "    raise InvalidParameterError(\n",
            "sklearn.utils._param_validation.InvalidParameterError: The 'min_samples_split' parameter of RandomForestClassifier must be an int in the range [2, inf) or a float in the range (0.0, 1.0]. Got 1 instead.\n",
            "\n",
            "  warnings.warn(some_fits_failed_message, FitFailedWarning)\n",
            "/usr/local/lib/python3.10/dist-packages/sklearn/model_selection/_search.py:952: UserWarning: One or more of the test scores are non-finite: [       nan 0.98960742 0.98806605 0.96947617 0.98888344 0.98127\n",
            " 0.98327845        nan 0.98960742 0.98888344]\n",
            "  warnings.warn(\n",
            "/usr/local/lib/python3.10/dist-packages/sklearn/model_selection/_search.py:909: DataConversionWarning: A column-vector y was passed when a 1d array was expected. Please change the shape of y to (n_samples,), for example using ravel().\n",
            "  self.best_estimator_.fit(X, y, **fit_params)\n"
          ]
        },
        {
          "output_type": "execute_result",
          "data": {
            "text/plain": [
              "RandomizedSearchCV(cv=3, estimator=RandomForestClassifier(), n_jobs=-1,\n",
              "                   param_distributions={'criterion': ['entropy', 'gini'],\n",
              "                                        'max_depth': [10, 120, 230, 340, 450,\n",
              "                                                      560, 670, 780, 890,\n",
              "                                                      1000],\n",
              "                                        'max_features': ['auto', 'sqrt',\n",
              "                                                         'log2'],\n",
              "                                        'min_samples_leaf': [1, 2, 4, 6, 8],\n",
              "                                        'min_samples_split': [1, 3, 4, 5, 7, 9],\n",
              "                                        'n_estimators': [200, 400, 600, 800,\n",
              "                                                         1000, 1200, 1400, 1600,\n",
              "                                                         1800, 2000]},\n",
              "                   random_state=100, verbose=2)"
            ],
            "text/html": [
              "<style>#sk-container-id-1 {color: black;background-color: white;}#sk-container-id-1 pre{padding: 0;}#sk-container-id-1 div.sk-toggleable {background-color: white;}#sk-container-id-1 label.sk-toggleable__label {cursor: pointer;display: block;width: 100%;margin-bottom: 0;padding: 0.3em;box-sizing: border-box;text-align: center;}#sk-container-id-1 label.sk-toggleable__label-arrow:before {content: \"▸\";float: left;margin-right: 0.25em;color: #696969;}#sk-container-id-1 label.sk-toggleable__label-arrow:hover:before {color: black;}#sk-container-id-1 div.sk-estimator:hover label.sk-toggleable__label-arrow:before {color: black;}#sk-container-id-1 div.sk-toggleable__content {max-height: 0;max-width: 0;overflow: hidden;text-align: left;background-color: #f0f8ff;}#sk-container-id-1 div.sk-toggleable__content pre {margin: 0.2em;color: black;border-radius: 0.25em;background-color: #f0f8ff;}#sk-container-id-1 input.sk-toggleable__control:checked~div.sk-toggleable__content {max-height: 200px;max-width: 100%;overflow: auto;}#sk-container-id-1 input.sk-toggleable__control:checked~label.sk-toggleable__label-arrow:before {content: \"▾\";}#sk-container-id-1 div.sk-estimator input.sk-toggleable__control:checked~label.sk-toggleable__label {background-color: #d4ebff;}#sk-container-id-1 div.sk-label input.sk-toggleable__control:checked~label.sk-toggleable__label {background-color: #d4ebff;}#sk-container-id-1 input.sk-hidden--visually {border: 0;clip: rect(1px 1px 1px 1px);clip: rect(1px, 1px, 1px, 1px);height: 1px;margin: -1px;overflow: hidden;padding: 0;position: absolute;width: 1px;}#sk-container-id-1 div.sk-estimator {font-family: monospace;background-color: #f0f8ff;border: 1px dotted black;border-radius: 0.25em;box-sizing: border-box;margin-bottom: 0.5em;}#sk-container-id-1 div.sk-estimator:hover {background-color: #d4ebff;}#sk-container-id-1 div.sk-parallel-item::after {content: \"\";width: 100%;border-bottom: 1px solid gray;flex-grow: 1;}#sk-container-id-1 div.sk-label:hover label.sk-toggleable__label {background-color: #d4ebff;}#sk-container-id-1 div.sk-serial::before {content: \"\";position: absolute;border-left: 1px solid gray;box-sizing: border-box;top: 0;bottom: 0;left: 50%;z-index: 0;}#sk-container-id-1 div.sk-serial {display: flex;flex-direction: column;align-items: center;background-color: white;padding-right: 0.2em;padding-left: 0.2em;position: relative;}#sk-container-id-1 div.sk-item {position: relative;z-index: 1;}#sk-container-id-1 div.sk-parallel {display: flex;align-items: stretch;justify-content: center;background-color: white;position: relative;}#sk-container-id-1 div.sk-item::before, #sk-container-id-1 div.sk-parallel-item::before {content: \"\";position: absolute;border-left: 1px solid gray;box-sizing: border-box;top: 0;bottom: 0;left: 50%;z-index: -1;}#sk-container-id-1 div.sk-parallel-item {display: flex;flex-direction: column;z-index: 1;position: relative;background-color: white;}#sk-container-id-1 div.sk-parallel-item:first-child::after {align-self: flex-end;width: 50%;}#sk-container-id-1 div.sk-parallel-item:last-child::after {align-self: flex-start;width: 50%;}#sk-container-id-1 div.sk-parallel-item:only-child::after {width: 0;}#sk-container-id-1 div.sk-dashed-wrapped {border: 1px dashed gray;margin: 0 0.4em 0.5em 0.4em;box-sizing: border-box;padding-bottom: 0.4em;background-color: white;}#sk-container-id-1 div.sk-label label {font-family: monospace;font-weight: bold;display: inline-block;line-height: 1.2em;}#sk-container-id-1 div.sk-label-container {text-align: center;}#sk-container-id-1 div.sk-container {/* jupyter's `normalize.less` sets `[hidden] { display: none; }` but bootstrap.min.css set `[hidden] { display: none !important; }` so we also need the `!important` here to be able to override the default hidden behavior on the sphinx rendered scikit-learn.org. See: https://github.com/scikit-learn/scikit-learn/issues/21755 */display: inline-block !important;position: relative;}#sk-container-id-1 div.sk-text-repr-fallback {display: none;}</style><div id=\"sk-container-id-1\" class=\"sk-top-container\"><div class=\"sk-text-repr-fallback\"><pre>RandomizedSearchCV(cv=3, estimator=RandomForestClassifier(), n_jobs=-1,\n",
              "                   param_distributions={&#x27;criterion&#x27;: [&#x27;entropy&#x27;, &#x27;gini&#x27;],\n",
              "                                        &#x27;max_depth&#x27;: [10, 120, 230, 340, 450,\n",
              "                                                      560, 670, 780, 890,\n",
              "                                                      1000],\n",
              "                                        &#x27;max_features&#x27;: [&#x27;auto&#x27;, &#x27;sqrt&#x27;,\n",
              "                                                         &#x27;log2&#x27;],\n",
              "                                        &#x27;min_samples_leaf&#x27;: [1, 2, 4, 6, 8],\n",
              "                                        &#x27;min_samples_split&#x27;: [1, 3, 4, 5, 7, 9],\n",
              "                                        &#x27;n_estimators&#x27;: [200, 400, 600, 800,\n",
              "                                                         1000, 1200, 1400, 1600,\n",
              "                                                         1800, 2000]},\n",
              "                   random_state=100, verbose=2)</pre><b>In a Jupyter environment, please rerun this cell to show the HTML representation or trust the notebook. <br />On GitHub, the HTML representation is unable to render, please try loading this page with nbviewer.org.</b></div><div class=\"sk-container\" hidden><div class=\"sk-item sk-dashed-wrapped\"><div class=\"sk-label-container\"><div class=\"sk-label sk-toggleable\"><input class=\"sk-toggleable__control sk-hidden--visually\" id=\"sk-estimator-id-1\" type=\"checkbox\" ><label for=\"sk-estimator-id-1\" class=\"sk-toggleable__label sk-toggleable__label-arrow\">RandomizedSearchCV</label><div class=\"sk-toggleable__content\"><pre>RandomizedSearchCV(cv=3, estimator=RandomForestClassifier(), n_jobs=-1,\n",
              "                   param_distributions={&#x27;criterion&#x27;: [&#x27;entropy&#x27;, &#x27;gini&#x27;],\n",
              "                                        &#x27;max_depth&#x27;: [10, 120, 230, 340, 450,\n",
              "                                                      560, 670, 780, 890,\n",
              "                                                      1000],\n",
              "                                        &#x27;max_features&#x27;: [&#x27;auto&#x27;, &#x27;sqrt&#x27;,\n",
              "                                                         &#x27;log2&#x27;],\n",
              "                                        &#x27;min_samples_leaf&#x27;: [1, 2, 4, 6, 8],\n",
              "                                        &#x27;min_samples_split&#x27;: [1, 3, 4, 5, 7, 9],\n",
              "                                        &#x27;n_estimators&#x27;: [200, 400, 600, 800,\n",
              "                                                         1000, 1200, 1400, 1600,\n",
              "                                                         1800, 2000]},\n",
              "                   random_state=100, verbose=2)</pre></div></div></div><div class=\"sk-parallel\"><div class=\"sk-parallel-item\"><div class=\"sk-item\"><div class=\"sk-label-container\"><div class=\"sk-label sk-toggleable\"><input class=\"sk-toggleable__control sk-hidden--visually\" id=\"sk-estimator-id-2\" type=\"checkbox\" ><label for=\"sk-estimator-id-2\" class=\"sk-toggleable__label sk-toggleable__label-arrow\">estimator: RandomForestClassifier</label><div class=\"sk-toggleable__content\"><pre>RandomForestClassifier()</pre></div></div></div><div class=\"sk-serial\"><div class=\"sk-item\"><div class=\"sk-estimator sk-toggleable\"><input class=\"sk-toggleable__control sk-hidden--visually\" id=\"sk-estimator-id-3\" type=\"checkbox\" ><label for=\"sk-estimator-id-3\" class=\"sk-toggleable__label sk-toggleable__label-arrow\">RandomForestClassifier</label><div class=\"sk-toggleable__content\"><pre>RandomForestClassifier()</pre></div></div></div></div></div></div></div></div></div></div>"
            ]
          },
          "metadata": {},
          "execution_count": 10
        }
      ]
    },
    {
      "cell_type": "code",
      "source": [
        "rf_randomcv.best_params_"
      ],
      "metadata": {
        "colab": {
          "base_uri": "https://localhost:8080/"
        },
        "id": "lX7dRuDLYRwz",
        "outputId": "edeae00b-e561-44c3-ac7a-78fbca7921c3"
      },
      "execution_count": 11,
      "outputs": [
        {
          "output_type": "execute_result",
          "data": {
            "text/plain": [
              "{'n_estimators': 200,\n",
              " 'min_samples_split': 5,\n",
              " 'min_samples_leaf': 2,\n",
              " 'max_features': 'sqrt',\n",
              " 'max_depth': 560,\n",
              " 'criterion': 'gini'}"
            ]
          },
          "metadata": {},
          "execution_count": 11
        }
      ]
    },
    {
      "cell_type": "code",
      "source": [
        "best_random_grid=rf_randomcv.best_estimator_"
      ],
      "metadata": {
        "id": "HKMS1jVFYZCv"
      },
      "execution_count": 12,
      "outputs": []
    },
    {
      "cell_type": "code",
      "source": [
        "\n",
        "from sklearn.metrics import accuracy_score\n",
        "y_pred_rf=best_random_grid.predict(X_test)\n"
      ],
      "metadata": {
        "id": "QVk9LVadYZhh"
      },
      "execution_count": 63,
      "outputs": []
    },
    {
      "cell_type": "markdown",
      "source": [
        "### Accuracy & Error"
      ],
      "metadata": {
        "id": "DgjSyJx4sUdy"
      }
    },
    {
      "cell_type": "code",
      "source": [
        "d1 = round(accuracy_score(y_test, y_pred_rf)*100,4)\n",
        "d2 = round(100-accuracy_score(y_test, y_pred_rf)*100,4)\n",
        "print('Accuracy:',d1)\n",
        "print('Error:',d2)"
      ],
      "metadata": {
        "colab": {
          "base_uri": "https://localhost:8080/"
        },
        "id": "DU2Z0ChesQ33",
        "outputId": "1f3437c5-eb7b-450f-d1b8-df24aa7188c0"
      },
      "execution_count": 89,
      "outputs": [
        {
          "output_type": "stream",
          "name": "stdout",
          "text": [
            "Accuracy: 98.2298\n",
            "Error: 1.7702\n"
          ]
        }
      ]
    },
    {
      "cell_type": "markdown",
      "source": [
        "### Confusion Matrix"
      ],
      "metadata": {
        "id": "Nk-nXRFCuE-T"
      }
    },
    {
      "cell_type": "code",
      "source": [
        "def confusion_mat(color):\n",
        "    cof=confusion_matrix(y_test, y_pred_rf)\n",
        "    cof=pd.DataFrame(cof, index=[i for i in range(1,3)], columns=[i for i in range(1,3)])\n",
        "    sns.set(font_scale=1.5)\n",
        "    plt.figure(figsize=(6,6));\n",
        "\n",
        "    sns.heatmap(cof, cmap=color,linewidths=1, annot=True,square=True, fmt='d', cbar=False,xticklabels=[0,1],yticklabels=[0,1]);\n",
        "    plt.xlabel(\"Predicted Classes\");\n",
        "    plt.ylabel(\"Actual Classes\");\n",
        "\n",
        "confusion_mat('RdYlBu')"
      ],
      "metadata": {
        "colab": {
          "base_uri": "https://localhost:8080/",
          "height": 564
        },
        "id": "wFsNrf77sbXc",
        "outputId": "5ba6885c-98e6-49d8-982e-f825a7b09fd5"
      },
      "execution_count": 65,
      "outputs": [
        {
          "output_type": "display_data",
          "data": {
            "text/plain": [
              "<Figure size 600x600 with 1 Axes>"
            ],
            "image/png": "[encoded data removed]"
          },
          "metadata": {}
        }
      ]
    },
    {
      "cell_type": "markdown",
      "source": [
        "### Precision ,Recall,F1-Score"
      ],
      "metadata": {
        "id": "zWcPPueguJox"
      }
    },
    {
      "cell_type": "code",
      "source": [
        "print('\\nClassification Report\\n')\n",
        "print((classification_report(y_test, y_pred_rf)))"
      ],
      "metadata": {
        "colab": {
          "base_uri": "https://localhost:8080/"
        },
        "id": "DHDGNY_GsuN3",
        "outputId": "6fa342f8-6e95-45a4-f311-f1323d3f8966"
      },
      "execution_count": 75,
      "outputs": [
        {
          "output_type": "stream",
          "name": "stdout",
          "text": [
            "\n",
            "Classification Report\n",
            "\n",
            "              precision    recall  f1-score   support\n",
            "\n",
            "           0       0.98      0.99      0.99      8398\n",
            "           1       0.97      0.94      0.96      2109\n",
            "\n",
            "    accuracy                           0.98     10507\n",
            "   macro avg       0.98      0.97      0.97     10507\n",
            "weighted avg       0.98      0.98      0.98     10507\n",
            "\n"
          ]
        }
      ]
    },
    {
      "cell_type": "markdown",
      "source": [
        "## Comparison of Accuracies of Different Models on (Dtest)"
      ],
      "metadata": {
        "id": "GwVFJHY_wUZo"
      }
    },
    {
      "cell_type": "code",
      "source": [
        "sns.set()\n",
        "fig = plt.figure()\n",
        "ax = fig.add_axes([0,0,1,1])\n",
        "Models = [\"Gauission NB\",\"Logistic_Regression\",\"Decison_Tree\",\"Random Forest Classifier\"]\n",
        "Accuracy=[a1,b1,c1,d1]\n",
        "ax.bar(Models,Accuracy,color=['#702963','#8a2be2','#9966cc',\"#761717\"]);\n",
        "for i in ax.patches:\n",
        "    ax.text(i.get_x()+.1, i.get_height()-4.5, str(round(i.get_height(),2))+'%', fontsize=15, color='white')\n",
        "plt.title('Comparison of Different Classification Models');\n",
        "plt.ylabel('Accuracy');\n",
        "plt.xlabel('Classification Models');\n",
        "\n",
        "plt.show();"
      ],
      "metadata": {
        "colab": {
          "base_uri": "https://localhost:8080/",
          "height": 592
        },
        "id": "L6iqRYhDuOJP",
        "outputId": "f65b2f0f-d31b-4deb-8c8b-f367160b9b50"
      },
      "execution_count": 96,
      "outputs": [
        {
          "output_type": "display_data",
          "data": {
            "text/plain": [
              "<Figure size 640x480 with 1 Axes>"
            ],
            "image/png": "[encoded data removed]"
          },
          "metadata": {}
        }
      ]
    },
    {
      "cell_type": "markdown",
      "metadata": {
        "id": "J1tIakuIcKpf"
      },
      "source": [
        "### Conclusion & Buisness values\n",
        "\n",
        "- So after loading the data we started with EDA process to understand the data through diffrent types of Univariate,Bivariate & Multivaiate tools and also handles outliers and NaN values.\n",
        "- In feature engineering we have created some of the features as well as removed some unwanted features which added less value .\n",
        "- Features such as Grade, Sub_Grade, Intreset rate, term etc etc played major roles to understand wheather the person is defaulter or not\n",
        "\n",
        "### Machine Learning Models used\n",
        "- Logistic\n",
        "- Naive Bayes\n",
        "- Decision Tree\n",
        "- Random Forest Classifier\n",
        "\n",
        "Finally we have compared all the models w.r.t.o their Acc, Confusion Matrix , Precison & Recall and all the models have performed better in this case\n"
      ]
    },
    {
      "cell_type": "code",
      "source": [],
      "metadata": {
        "id": "Zbo9tfhQvxms"
      },
      "execution_count": null,
      "outputs": []
    }
  ]
}